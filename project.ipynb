{
 "cells": [
  {
   "attachments": {},
   "cell_type": "markdown",
   "metadata": {},
   "source": [
    "### Model and API Key Configuration\n",
    "\n",
    "**According to the prompt, input your openai API key**"
   ]
  },
  {
   "cell_type": "code",
   "execution_count": 1,
   "metadata": {},
   "outputs": [],
   "source": [
    "import openai\n",
    "select_model = \"gpt-3.5-turbo\""
   ]
  },
  {
   "cell_type": "code",
   "execution_count": 2,
   "metadata": {},
   "outputs": [],
   "source": [
    "key = input(\"please type in your API key:\")\n",
    "openai.api_key = key"
   ]
  },
  {
   "attachments": {},
   "cell_type": "markdown",
   "metadata": {},
   "source": [
    "### Code reviewer\n",
    "\n",
    "1. Upload your code to the directory that is the same as this notebook\n",
    "2. According to the prompt, give the name of your code file\n",
    "3. Wait for several seconds to see the code review"
   ]
  },
  {
   "cell_type": "code",
   "execution_count": 3,
   "metadata": {},
   "outputs": [],
   "source": [
    "def code_review(code):\n",
    "    prompt = f\"Please review the following Python code and give potential improvements and suggestions in a well-formatted way:\\n\\n{code}\\n\\n\"\n",
    "    response = openai.ChatCompletion.create(\n",
    "        model=select_model,\n",
    "        messages=[{\"content\": prompt, \"role\": \"user\"}],\n",
    "    )\n",
    "    suggestions = response[\"choices\"][0][\"message\"]['content']\n",
    "    return suggestions"
   ]
  },
  {
   "cell_type": "code",
   "execution_count": 4,
   "metadata": {},
   "outputs": [
    {
     "name": "stdout",
     "output_type": "stream",
     "text": [
      "Here are some potential improvements and suggestions for this Python code:\n",
      "\n",
      "1. Add input validation: While this code does correctly calculate the factorial of a given number, it does not handle invalid input well. Adding some input validation could help improve its robustness. For instance, you could check if n is an integer and if it is non-negative, and raise an exception if it is not.\n",
      "\n",
      "2. Use a loop instead of recursion: Recursion can be inefficient and can cause issues with stack overflow in certain cases. In this case, it may be faster and simpler to use a loop instead. You could use a for loop to iterate from 1 to n and multiply each value together.\n",
      "\n",
      "3. Optimize for small inputs: The recursive implementation works well for small values of n, but for larger values it becomes very slow. You could optimize the algorithm for small input values by storing the factorials of smaller numbers in a cache or lookup table and using these precomputed values when computing the factorial of a larger number.\n",
      "\n",
      "4. Add docstrings: Adding docstrings to your functions can help to improve the readability and usability of your code. Docstrings should include a brief description of what the function does, its input arguments, and what it returns.\n",
      "\n",
      "5. Use a ternary operator for the return statement: In Python, you can use a ternary operator to write if/else statements on a single line. This can help to make your code more concise and readable. In this case, the return statement could be written as:\n",
      "```\n",
      "return 1 if n == 0 else n * factorial(n-1)\n",
      "```\n",
      "\n",
      "Here is an updated version of the code that incorporates some of these suggestions:\n",
      "\n",
      "```\n",
      "def factorial(n: int) -> int:\n",
      "    \"\"\"Calculates the factorial of a given number.\"\"\"\n",
      "    if not isinstance(n, int) or n < 0:\n",
      "        raise ValueError(\"n must be a non-negative integer\")\n",
      "    \n",
      "    if n == 0:\n",
      "        return 1\n",
      "    \n",
      "    result = 1\n",
      "    for i in range(1, n+1):\n",
      "        result *= i\n",
      "    \n",
      "    return result\n",
      "```\n",
      "\n",
      "By adding input validation, using a loop instead of recursion, and adding docstrings, this code is now more robust and easier to understand.\n"
     ]
    }
   ],
   "source": [
    "file_name = input(\"Please give me the name of the python code file you want to review: \")\n",
    "try: \n",
    "    with open(file_name, \"r\") as f:\n",
    "        code = f.read()\n",
    "    print(\"generating suggestions...\")\n",
    "    print(code_review(code))\n",
    "except:\n",
    "    print(\"File not found.\")\n",
    "    exit()"
   ]
  },
  {
   "cell_type": "code",
   "execution_count": null,
   "metadata": {},
   "outputs": [],
   "source": []
  }
 ],
 "metadata": {
  "kernelspec": {
   "display_name": "Python 3",
   "language": "python",
   "name": "python3"
  },
  "language_info": {
   "codemirror_mode": {
    "name": "ipython",
    "version": 3
   },
   "file_extension": ".py",
   "mimetype": "text/x-python",
   "name": "python",
   "nbconvert_exporter": "python",
   "pygments_lexer": "ipython3",
   "version": "3.10.1"
  },
  "orig_nbformat": 4
 },
 "nbformat": 4,
 "nbformat_minor": 2
}
